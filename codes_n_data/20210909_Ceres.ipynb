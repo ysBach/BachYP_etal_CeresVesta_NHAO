{
 "cells": [
  {
   "cell_type": "code",
   "execution_count": 1,
   "id": "d1d7eda8",
   "metadata": {},
   "outputs": [],
   "source": [
    "%config InlineBackend.figure_format = 'retina'\n",
    "from IPython import InteractiveShell\n",
    "InteractiveShell.ast_node_interactivity = 'last_expr' \n",
    "\n",
    "from pathlib import Path\n",
    "\n",
    "import numpy as np\n",
    "import nicpolpy as nic\n",
    "\n",
    "from matplotlib import pyplot as plt\n",
    "from matplotlib import rcParams\n",
    "\n",
    "import warnings\n",
    "from astropy.utils.exceptions import AstropyWarning\n",
    "warnings.filterwarnings('ignore', append=True, category=AstropyWarning)"
   ]
  },
  {
   "cell_type": "code",
   "execution_count": 2,
   "id": "d93962c3",
   "metadata": {},
   "outputs": [],
   "source": [
    "name = \"1_Ceres_20210909_NHAO_NIC_32bit\"\n",
    "basename = \"Ceres_20210909\"\n",
    "\n",
    "npr = nic.NICPolReduc(\n",
    "    name=basename,\n",
    "    inputs=f\"_original_32bit/{name}/*.fits\",\n",
    "    mflats=\"cal-flat_20200603-lv1/*.fits\",\n",
    "#     mflats=\"cal-flat_20180507/*.fits\",\n",
    "    imasks=\"masks/*.fits\",\n",
    "    verbose=1\n",
    ")"
   ]
  },
  {
   "cell_type": "code",
   "execution_count": 3,
   "id": "69c26d9e",
   "metadata": {},
   "outputs": [
    {
     "name": "stderr",
     "output_type": "stream",
     "text": [
      "120it [00:09, 12.46it/s]\n"
     ]
    },
    {
     "name": "stdout",
     "output_type": "stream",
     "text": [
      "Saved to __logs/Ceres_20210909/Ceres_20210909_plan-MDARK.csv\n",
      "Saving thumbnails to __logs/Ceres_20210909/thumbs_mdark_plan\n"
     ]
    },
    {
     "name": "stderr",
     "output_type": "stream",
     "text": [
      "120it [00:24,  4.93it/s]"
     ]
    },
    {
     "name": "stdout",
     "output_type": "stream",
     "text": [
      "WAIT! Modify\n",
      "\t__logs/Ceres_20210909/Ceres_20210909_plan-MDARK.csv\n"
     ]
    },
    {
     "name": "stderr",
     "output_type": "stream",
     "text": [
      "\n"
     ]
    }
   ],
   "source": [
    "_ = npr.plan_mdark()"
   ]
  },
  {
   "cell_type": "code",
   "execution_count": 4,
   "id": "5943e176",
   "metadata": {},
   "outputs": [
    {
     "name": "stdout",
     "output_type": "stream",
     "text": [
      "Group and combine by ['FILTER', 'EXPTIME'] (total 6 groups)\n",
      "* ('H', 20)... (20 files)\n",
      "* ('H', 60)... (20 files)\n",
      "* ('J', 20)... (20 files)\n",
      "* ('J', 60)... (20 files)\n",
      "* ('K', 20)... (20 files)\n",
      "* ('K', 60)... (20 files)\n",
      ".................................(dt = 18.246 s) 2022-07-18T01:34:22.962\n",
      "Saving thumbnails to __logs/Ceres_20210909/thumbs_mdark\n"
     ]
    },
    {
     "name": "stderr",
     "output_type": "stream",
     "text": [
      "6it [00:01,  5.52it/s]\n"
     ]
    },
    {
     "name": "stdout",
     "output_type": "stream",
     "text": [
      "Saving thumbnails to __logs/Ceres_20210909/thumbs_dmask\n"
     ]
    },
    {
     "name": "stderr",
     "output_type": "stream",
     "text": [
      "6it [00:00,  6.38it/s]\n"
     ]
    },
    {
     "name": "stdout",
     "output_type": "stream",
     "text": [
      "Saved to __logs/Ceres_20210909/Ceres_20210909_plan-MMASK.csv\n",
      "Saving thumbnails to __logs/Ceres_20210909/thumbs_mmask_plan\n"
     ]
    },
    {
     "name": "stderr",
     "output_type": "stream",
     "text": [
      "9it [00:01,  6.85it/s]"
     ]
    },
    {
     "name": "stdout",
     "output_type": "stream",
     "text": [
      "WAIT! Modify\n",
      "\t__logs/Ceres_20210909/Ceres_20210909_plan-MMASK.csv\n"
     ]
    },
    {
     "name": "stderr",
     "output_type": "stream",
     "text": [
      "\n"
     ]
    }
   ],
   "source": [
    "_ = npr.comb_mdark_dmask()\n",
    "_ = npr.plan_mmask()"
   ]
  },
  {
   "cell_type": "code",
   "execution_count": 5,
   "id": "466413bf",
   "metadata": {},
   "outputs": [
    {
     "name": "stdout",
     "output_type": "stream",
     "text": [
      "Group and combine by ['FILTER'] (total 3 groups)\n",
      "* H... (3 files)\n",
      "* J... (3 files)\n",
      "* K... (3 files)\n",
      "..................................(dt = 0.189 s) 2022-07-18T01:34:26.903\n",
      "Saving thumbnails to __logs/Ceres_20210909/thumbs_mmask\n"
     ]
    },
    {
     "name": "stderr",
     "output_type": "stream",
     "text": [
      "3it [00:00,  6.86it/s]\n"
     ]
    }
   ],
   "source": [
    "_ = npr.comb_mmask()"
   ]
  },
  {
   "cell_type": "code",
   "execution_count": 6,
   "id": "cf20ba7f",
   "metadata": {},
   "outputs": [
    {
     "name": "stderr",
     "output_type": "stream",
     "text": [
      "324it [00:30, 10.60it/s]\n",
      "100%|███████████████████████████████████████████████████| 108/108 [00:13<00:00,  8.04it/s]\n"
     ]
    },
    {
     "name": "stdout",
     "output_type": "stream",
     "text": [
      "Saved to __logs/Ceres_20210909/Ceres_20210909_plan-lv2.csv\n",
      "WAIT! Modify\n",
      "\t__logs/Ceres_20210909/Ceres_20210909_plan-lv2.csv\n"
     ]
    }
   ],
   "source": [
    "_ = npr.proc_lv1() \n",
    "_ = npr.plan_lv2()"
   ]
  },
  {
   "cell_type": "code",
   "execution_count": 7,
   "id": "604cde3b",
   "metadata": {},
   "outputs": [
    {
     "name": "stderr",
     "output_type": "stream",
     "text": [
      "223it [02:40,  1.39it/s]\n",
      "100%|███████████████████████████████████████████████████| 108/108 [00:11<00:00,  9.46it/s]\n"
     ]
    },
    {
     "name": "stdout",
     "output_type": "stream",
     "text": [
      "Saved to __logs/Ceres_20210909/Ceres_20210909_plan-lv3.csv\n",
      "WAIT! Modify\n",
      "\t__logs/Ceres_20210909/Ceres_20210909_plan-lv3.csv\n"
     ]
    }
   ],
   "source": [
    "_ = npr.proc_lv2() # ~ 13 min/350FITS on MBP 16\" [2021, macOS 12.0.1, M1Pro, 8P+2E core, GPU 16-core, RAM 16GB]\n",
    "_ = npr.plan_lv3()"
   ]
  },
  {
   "cell_type": "code",
   "execution_count": 8,
   "id": "8c16b56a",
   "metadata": {},
   "outputs": [
    {
     "name": "stderr",
     "output_type": "stream",
     "text": [
      "223it [01:24,  2.63it/s]\n"
     ]
    },
    {
     "name": "stdout",
     "output_type": "stream",
     "text": [
      "Saving thumbnails to _lv3/Ceres_20210909/thumbs\n"
     ]
    },
    {
     "name": "stderr",
     "output_type": "stream",
     "text": [
      "446it [00:50,  8.80it/s]"
     ]
    },
    {
     "name": "stdout",
     "output_type": "stream",
     "text": [
      "Saved to __logs/Ceres_20210909/Ceres_20210909_plan-IFRIN.csv\n",
      "WAIT! Modify\n",
      "\t__logs/Ceres_20210909/Ceres_20210909_plan-IFRIN.csv\n"
     ]
    },
    {
     "name": "stderr",
     "output_type": "stream",
     "text": [
      "\n"
     ]
    }
   ],
   "source": [
    "_ = npr.proc_lv3()  # ~ 3 min/350FITS on MBP 16\" [2021, macOS 12.0.1, M1Pro, 8P+2E core, GPU 16-core, RAM 16GB]\n",
    "_ = npr.plan_ifrin()"
   ]
  },
  {
   "cell_type": "code",
   "execution_count": 9,
   "id": "e9149e86",
   "metadata": {},
   "outputs": [
    {
     "name": "stderr",
     "output_type": "stream",
     "text": [
      "100%|█████████████████████████████████████████████████████| 12/12 [00:07<00:00,  1.59it/s]\n"
     ]
    },
    {
     "name": "stdout",
     "output_type": "stream",
     "text": [
      "Saved to __logs/Ceres_20210909/Ceres_20210909_plan-MFRIN.csv\n",
      "Saving thumbnails to __logs/Ceres_20210909/thumbs_mfrin_plan\n"
     ]
    },
    {
     "name": "stderr",
     "output_type": "stream",
     "text": [
      "48it [00:05,  8.55it/s]"
     ]
    },
    {
     "name": "stdout",
     "output_type": "stream",
     "text": [
      "WAIT! Modify\n",
      "\t__logs/Ceres_20210909/Ceres_20210909_plan-MFRIN.csv\n"
     ]
    },
    {
     "name": "stderr",
     "output_type": "stream",
     "text": [
      "\n"
     ]
    }
   ],
   "source": [
    "_ = npr.plan_mfrin()"
   ]
  },
  {
   "cell_type": "code",
   "execution_count": 10,
   "id": "4a57c4f0",
   "metadata": {},
   "outputs": [
    {
     "name": "stdout",
     "output_type": "stream",
     "text": [
      "Group and combine by FRINCID (total 12 groups)\n",
      "* H_Ceres_sky_001_e... (4 files)\n",
      "* H_Ceres_sky_001_o... (4 files)\n",
      "* H_Ceres_sky_002_e... (4 files)\n",
      "* H_Ceres_sky_002_o... (4 files)\n",
      "* J_Ceres_sky_001_e... (4 files)\n",
      "* J_Ceres_sky_001_o... (4 files)\n",
      "* J_Ceres_sky_002_e... (4 files)\n",
      "* J_Ceres_sky_002_o... (4 files)\n",
      "* K_Ceres_sky_001_e... (4 files)\n",
      "* K_Ceres_sky_001_o... (4 files)\n",
      "* K_Ceres_sky_002_e... (4 files)\n",
      "* K_Ceres_sky_002_o... (4 files)\n",
      "..................................(dt = 0.444 s) 2022-07-18T01:40:36.023\n",
      "Saving thumbnails to __logs/Ceres_20210909/thumbs_mfrin\n"
     ]
    },
    {
     "name": "stderr",
     "output_type": "stream",
     "text": [
      "12it [00:01,  8.75it/s]\n"
     ]
    }
   ],
   "source": [
    "_ = npr.comb_mfrin()"
   ]
  },
  {
   "cell_type": "code",
   "execution_count": 11,
   "id": "0a405ddd",
   "metadata": {},
   "outputs": [
    {
     "name": "stdout",
     "output_type": "stream",
     "text": [
      "Saved to __logs/Ceres_20210909/Ceres_20210909_plan-lv4.csv\n",
      "WAIT! Modify\n",
      "\t__logs/Ceres_20210909/Ceres_20210909_plan-lv4.csv\n"
     ]
    }
   ],
   "source": [
    "_ = npr.plan_lv4(add_mfrin=False)"
   ]
  },
  {
   "cell_type": "code",
   "execution_count": 12,
   "id": "bfb1030b",
   "metadata": {},
   "outputs": [
    {
     "name": "stderr",
     "output_type": "stream",
     "text": [
      "398it [01:14,  5.32it/s]\n"
     ]
    },
    {
     "name": "stdout",
     "output_type": "stream",
     "text": [
      "Saving thumbnails to _lv4/Ceres_20210909/thumbs\n"
     ]
    },
    {
     "name": "stderr",
     "output_type": "stream",
     "text": [
      "398it [00:42,  9.47it/s]\n"
     ]
    }
   ],
   "source": [
    "_ = npr.proc_lv4()"
   ]
  }
 ],
 "metadata": {
  "kernelspec": {
   "display_name": "Python 3 (ipykernel)",
   "language": "python",
   "name": "python3"
  },
  "language_info": {
   "codemirror_mode": {
    "name": "ipython",
    "version": 3
   },
   "file_extension": ".py",
   "mimetype": "text/x-python",
   "name": "python",
   "nbconvert_exporter": "python",
   "pygments_lexer": "ipython3",
   "version": "3.9.13"
  }
 },
 "nbformat": 4,
 "nbformat_minor": 5
}
