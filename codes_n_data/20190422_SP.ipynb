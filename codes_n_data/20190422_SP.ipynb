{
 "cells": [
  {
   "cell_type": "code",
   "execution_count": 1,
   "id": "d1d7eda8",
   "metadata": {},
   "outputs": [],
   "source": [
    "%config InlineBackend.figure_format = 'retina'\n",
    "from IPython import InteractiveShell\n",
    "InteractiveShell.ast_node_interactivity = 'last_expr' \n",
    "\n",
    "from pathlib import Path\n",
    "\n",
    "import numpy as np\n",
    "import nicpolpy as nic\n",
    "\n",
    "from matplotlib import pyplot as plt\n",
    "from matplotlib import rcParams\n",
    "\n",
    "import warnings\n",
    "from astropy.utils.exceptions import AstropyWarning\n",
    "warnings.filterwarnings('ignore', append=True, category=AstropyWarning)"
   ]
  },
  {
   "cell_type": "code",
   "execution_count": 2,
   "id": "d93962c3",
   "metadata": {},
   "outputs": [],
   "source": [
    "name = \"NHAO_NIC_StandardsPol_20190422_NHAO_NIC\"\n",
    "basename = \"SP_20190422\"\n",
    "\n",
    "npr = nic.NICPolReduc(\n",
    "    name=basename,\n",
    "    inputs=f\"_original_32bit/{name}/raw/*.fits\",\n",
    "#     mflats=\"cal-flat_20200603-lv1/*.fits\",\n",
    "    mflats=\"cal-flat_20180507-lv1/*.fits\",\n",
    "    imasks=\"masks/*.fits\",\n",
    "    verbose=1\n",
    ")"
   ]
  },
  {
   "cell_type": "code",
   "execution_count": 3,
   "id": "69c26d9e",
   "metadata": {},
   "outputs": [
    {
     "name": "stderr",
     "output_type": "stream",
     "text": [
      "135it [00:16,  8.28it/s]\n"
     ]
    },
    {
     "name": "stdout",
     "output_type": "stream",
     "text": [
      "Saved to __logs/SP_20190422/SP_20190422_plan-MDARK.csv\n",
      "Saving thumbnails to __logs/SP_20190422/thumbs_mdark_plan\n"
     ]
    },
    {
     "name": "stderr",
     "output_type": "stream",
     "text": [
      "135it [00:41,  3.26it/s]"
     ]
    },
    {
     "name": "stdout",
     "output_type": "stream",
     "text": [
      "WAIT! Modify\n",
      "\t__logs/SP_20190422/SP_20190422_plan-MDARK.csv\n"
     ]
    },
    {
     "name": "stderr",
     "output_type": "stream",
     "text": [
      "\n"
     ]
    }
   ],
   "source": [
    "_ = npr.plan_mdark()"
   ]
  },
  {
   "cell_type": "code",
   "execution_count": 4,
   "id": "5943e176",
   "metadata": {},
   "outputs": [
    {
     "name": "stdout",
     "output_type": "stream",
     "text": [
      "Group and combine by ['FILTER', 'EXPTIME'] (total 9 groups)\n",
      "* ('H', 2)... (15 files)\n",
      "* ('H', 10)... (15 files)\n",
      "* ('H', 60)... (15 files)\n",
      "* ('J', 2)... (15 files)\n",
      "* ('J', 10)... (15 files)\n",
      "* ('J', 60)... (15 files)\n",
      "* ('K', 2)... (15 files)\n",
      "* ('K', 10)... (15 files)\n",
      "* ('K', 60)... (15 files)\n",
      ".................................(dt = 20.485 s) 2022-09-25T09:33:08.319\n",
      "Saving thumbnails to __logs/SP_20190422/thumbs_mdark\n"
     ]
    },
    {
     "name": "stderr",
     "output_type": "stream",
     "text": [
      "9it [00:02,  4.49it/s]\n"
     ]
    },
    {
     "name": "stdout",
     "output_type": "stream",
     "text": [
      "Saving thumbnails to __logs/SP_20190422/thumbs_dmask\n"
     ]
    },
    {
     "name": "stderr",
     "output_type": "stream",
     "text": [
      "9it [00:01,  5.38it/s]\n"
     ]
    },
    {
     "name": "stdout",
     "output_type": "stream",
     "text": [
      "Saved to __logs/SP_20190422/SP_20190422_plan-MMASK.csv\n",
      "Saving thumbnails to __logs/SP_20190422/thumbs_mmask_plan\n"
     ]
    },
    {
     "name": "stderr",
     "output_type": "stream",
     "text": [
      "12it [00:02,  4.84it/s]"
     ]
    },
    {
     "name": "stdout",
     "output_type": "stream",
     "text": [
      "WAIT! Modify\n",
      "\t__logs/SP_20190422/SP_20190422_plan-MMASK.csv\n"
     ]
    },
    {
     "name": "stderr",
     "output_type": "stream",
     "text": [
      "\n"
     ]
    }
   ],
   "source": [
    "_ = npr.comb_mdark_dmask()\n",
    "_ = npr.plan_mmask()"
   ]
  },
  {
   "cell_type": "code",
   "execution_count": 5,
   "id": "466413bf",
   "metadata": {},
   "outputs": [
    {
     "name": "stdout",
     "output_type": "stream",
     "text": [
      "Group and combine by ['FILTER'] (total 3 groups)\n",
      "* H... (4 files)\n",
      "* J... (4 files)\n",
      "* K... (4 files)\n",
      "..................................(dt = 0.156 s) 2022-09-25T09:33:15.379\n",
      "Saving thumbnails to __logs/SP_20190422/thumbs_mmask\n"
     ]
    },
    {
     "name": "stderr",
     "output_type": "stream",
     "text": [
      "3it [00:00,  4.00it/s]\n"
     ]
    }
   ],
   "source": [
    "_ = npr.comb_mmask()"
   ]
  },
  {
   "cell_type": "code",
   "execution_count": 6,
   "id": "cf20ba7f",
   "metadata": {},
   "outputs": [
    {
     "name": "stderr",
     "output_type": "stream",
     "text": [
      "408it [00:35, 11.58it/s]\n",
      "100%|██████████████████████████████████████████████████████████████████████| 136/136 [00:15<00:00,  8.69it/s]\n"
     ]
    },
    {
     "name": "stdout",
     "output_type": "stream",
     "text": [
      "Saved to __logs/SP_20190422/SP_20190422_plan-lv2.csv\n",
      "WAIT! Modify\n",
      "\t__logs/SP_20190422/SP_20190422_plan-lv2.csv\n"
     ]
    }
   ],
   "source": [
    "_ = npr.proc_lv1() \n",
    "_ = npr.plan_lv2()"
   ]
  },
  {
   "cell_type": "code",
   "execution_count": 7,
   "id": "604cde3b",
   "metadata": {},
   "outputs": [
    {
     "name": "stderr",
     "output_type": "stream",
     "text": [
      "406it [00:12, 32.64it/s]\n",
      "100%|██████████████████████████████████████████████████████████████████████| 136/136 [00:17<00:00,  7.81it/s]\n"
     ]
    },
    {
     "name": "stdout",
     "output_type": "stream",
     "text": [
      "Saved to __logs/SP_20190422/SP_20190422_plan-lv3.csv\n",
      "WAIT! Modify\n",
      "\t__logs/SP_20190422/SP_20190422_plan-lv3.csv\n"
     ]
    }
   ],
   "source": [
    "_ = npr.proc_lv2(do_fourier=False, vertical_again=False) # ~ 13 min/350FITS on MBP 16\" [2021, macOS 12.0.1, M1Pro, 8P+2E core, GPU 16-core, RAM 16GB]\n",
    "_ = npr.plan_lv3()"
   ]
  },
  {
   "cell_type": "code",
   "execution_count": 8,
   "id": "8c16b56a",
   "metadata": {},
   "outputs": [
    {
     "name": "stderr",
     "output_type": "stream",
     "text": [
      "406it [02:56,  2.30it/s]\n"
     ]
    },
    {
     "name": "stdout",
     "output_type": "stream",
     "text": [
      "Saving thumbnails to _lv3/SP_20190422/thumbs\n"
     ]
    },
    {
     "name": "stderr",
     "output_type": "stream",
     "text": [
      "812it [01:29,  9.06it/s]"
     ]
    },
    {
     "name": "stdout",
     "output_type": "stream",
     "text": [
      "Saved to __logs/SP_20190422/SP_20190422_plan-IFRIN.csv\n",
      "WAIT! Modify\n",
      "\t__logs/SP_20190422/SP_20190422_plan-IFRIN.csv\n"
     ]
    },
    {
     "name": "stderr",
     "output_type": "stream",
     "text": [
      "\n"
     ]
    }
   ],
   "source": [
    "_ = npr.proc_lv3()  # ~ 3 min/350FITS on MBP 16\" [2021, macOS 12.0.1, M1Pro, 8P+2E core, GPU 16-core, RAM 16GB]\n",
    "_ = npr.plan_ifrin()"
   ]
  },
  {
   "cell_type": "code",
   "execution_count": 9,
   "id": "e9149e86",
   "metadata": {},
   "outputs": [
    {
     "name": "stderr",
     "output_type": "stream",
     "text": [
      "100%|████████████████████████████████████████████████████████████████████████| 30/30 [00:09<00:00,  3.12it/s]\n"
     ]
    },
    {
     "name": "stdout",
     "output_type": "stream",
     "text": [
      "Saved to __logs/SP_20190422/SP_20190422_plan-MFRIN.csv\n",
      "Saving thumbnails to __logs/SP_20190422/thumbs_mfrin_plan\n"
     ]
    },
    {
     "name": "stderr",
     "output_type": "stream",
     "text": [
      "120it [00:13,  8.91it/s]"
     ]
    },
    {
     "name": "stdout",
     "output_type": "stream",
     "text": [
      "WAIT! Modify\n",
      "\t__logs/SP_20190422/SP_20190422_plan-MFRIN.csv\n"
     ]
    },
    {
     "name": "stderr",
     "output_type": "stream",
     "text": [
      "\n"
     ]
    }
   ],
   "source": [
    "_ = npr.plan_mfrin()"
   ]
  },
  {
   "cell_type": "code",
   "execution_count": 10,
   "id": "4a57c4f0",
   "metadata": {},
   "outputs": [
    {
     "name": "stdout",
     "output_type": "stream",
     "text": [
      "Group and combine by FRINCID (total 30 groups)\n",
      "* H_Elias9_sky_001_e... (4 files)\n",
      "* H_Elias9_sky_001_o... (4 files)\n",
      "* H_Elias9_sky_002_e... (4 files)\n",
      "* H_Elias9_sky_002_o... (4 files)\n",
      "* H_HD38563C_sky_001_e... (4 files)\n",
      "* H_HD38563C_sky_001_o... (4 files)\n",
      "* H_HD38563C_sky_002_e... (4 files)\n",
      "* H_HD38563C_sky_002_o... (4 files)\n",
      "* H_HD38563C_sky_003_e... (4 files)\n",
      "* H_HD38563C_sky_003_o... (4 files)\n",
      "* J_Elias9_sky_001_e... (4 files)\n",
      "* J_Elias9_sky_001_o... (4 files)\n",
      "* J_Elias9_sky_002_e... (4 files)\n",
      "* J_Elias9_sky_002_o... (4 files)\n",
      "* J_HD38563C_sky_001_e... (4 files)\n",
      "* J_HD38563C_sky_001_o... (4 files)\n",
      "* J_HD38563C_sky_002_e... (4 files)\n",
      "* J_HD38563C_sky_002_o... (4 files)\n",
      "* J_HD38563C_sky_003_e... (4 files)\n",
      "* J_HD38563C_sky_003_o... (4 files)\n",
      "* K_Elias9_sky_001_e... (4 files)\n",
      "* K_Elias9_sky_001_o... (4 files)\n",
      "* K_Elias9_sky_002_e... (4 files)\n",
      "* K_Elias9_sky_002_o... (4 files)\n",
      "* K_HD38563C_sky_001_e... (4 files)\n",
      "* K_HD38563C_sky_001_o... (4 files)\n",
      "* K_HD38563C_sky_002_e... (4 files)\n",
      "* K_HD38563C_sky_002_o... (4 files)\n",
      "* K_HD38563C_sky_003_e... (4 files)\n",
      "* K_HD38563C_sky_003_o... (4 files)\n",
      "..................................(dt = 1.010 s) 2022-09-25T09:39:31.721\n",
      "Saving thumbnails to __logs/SP_20190422/thumbs_mfrin\n"
     ]
    },
    {
     "name": "stderr",
     "output_type": "stream",
     "text": [
      "30it [00:03,  8.60it/s]\n"
     ]
    }
   ],
   "source": [
    "_ = npr.comb_mfrin()"
   ]
  },
  {
   "cell_type": "code",
   "execution_count": 11,
   "id": "0a405ddd",
   "metadata": {},
   "outputs": [
    {
     "name": "stdout",
     "output_type": "stream",
     "text": [
      "Saved to __logs/SP_20190422/SP_20190422_plan-lv4.csv\n",
      "WAIT! Modify\n",
      "\t__logs/SP_20190422/SP_20190422_plan-lv4.csv\n"
     ]
    }
   ],
   "source": [
    "_ = npr.plan_lv4(add_mfrin=False)"
   ]
  },
  {
   "cell_type": "code",
   "execution_count": 12,
   "id": "4d327005",
   "metadata": {},
   "outputs": [
    {
     "name": "stderr",
     "output_type": "stream",
     "text": [
      "692it [01:15,  9.22it/s]\n"
     ]
    },
    {
     "name": "stdout",
     "output_type": "stream",
     "text": [
      "Saving thumbnails to _lv4/SP_20190422/thumbs\n"
     ]
    },
    {
     "name": "stderr",
     "output_type": "stream",
     "text": [
      "692it [01:24,  8.15it/s]\n"
     ]
    }
   ],
   "source": [
    "_ = npr.proc_lv4()"
   ]
  },
  {
   "cell_type": "code",
   "execution_count": null,
   "id": "0f4f0f36",
   "metadata": {},
   "outputs": [],
   "source": []
  }
 ],
 "metadata": {
  "kernelspec": {
   "display_name": "Python 3 (ipykernel)",
   "language": "python",
   "name": "python3"
  },
  "language_info": {
   "codemirror_mode": {
    "name": "ipython",
    "version": 3
   },
   "file_extension": ".py",
   "mimetype": "text/x-python",
   "name": "python",
   "nbconvert_exporter": "python",
   "pygments_lexer": "ipython3",
   "version": "3.10.6"
  }
 },
 "nbformat": 4,
 "nbformat_minor": 5
}
