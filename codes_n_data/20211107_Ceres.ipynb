{
 "cells": [
  {
   "cell_type": "code",
   "execution_count": 1,
   "id": "d1d7eda8",
   "metadata": {},
   "outputs": [],
   "source": [
    "%config InlineBackend.figure_format = 'retina'\n",
    "from IPython import InteractiveShell\n",
    "InteractiveShell.ast_node_interactivity = 'last_expr' \n",
    "\n",
    "from pathlib import Path\n",
    "\n",
    "import numpy as np\n",
    "import nicpolpy as nic\n",
    "\n",
    "from matplotlib import pyplot as plt\n",
    "from matplotlib import rcParams\n",
    "\n",
    "import warnings\n",
    "from astropy.utils.exceptions import AstropyWarning\n",
    "warnings.filterwarnings('ignore', append=True, category=AstropyWarning)"
   ]
  },
  {
   "cell_type": "code",
   "execution_count": 2,
   "id": "d93962c3",
   "metadata": {},
   "outputs": [],
   "source": [
    "name = \"1_Ceres_20211107_NHAO_NIC_32bit\"\n",
    "basename = \"Ceres_20211107\"\n",
    "\n",
    "npr = nic.NICPolReduc(\n",
    "    name=basename,\n",
    "    inputs=f\"_original_32bit/{name}/*.fits\",\n",
    "    mflats=\"cal-flat_20200603-lv1/*.fits\",\n",
    "#     mflats=\"cal-flat_20180507/*.fits\",\n",
    "    imasks=\"masks/*.fits\",\n",
    "    verbose=1\n",
    ")"
   ]
  },
  {
   "cell_type": "code",
   "execution_count": 3,
   "id": "69c26d9e",
   "metadata": {},
   "outputs": [
    {
     "name": "stdout",
     "output_type": "stream",
     "text": [
      "SKIP: Planer exists for mdark at __logs/Ceres_20211107/Ceres_20211107_plan-MDARK.csv\n"
     ]
    }
   ],
   "source": [
    "_ = npr.plan_mdark()"
   ]
  },
  {
   "cell_type": "code",
   "execution_count": 4,
   "id": "5943e176",
   "metadata": {},
   "outputs": [
    {
     "name": "stdout",
     "output_type": "stream",
     "text": [
      "SKIP: Summary exists for mdark at __logs/Ceres_20211107/Ceres_20211107_summ_MDARK.csv\n",
      "SKIP: Planer exists for mmask at __logs/Ceres_20211107/Ceres_20211107_plan-MMASK.csv\n"
     ]
    }
   ],
   "source": [
    "_ = npr.comb_mdark_dmask()\n",
    "_ = npr.plan_mmask()"
   ]
  },
  {
   "cell_type": "code",
   "execution_count": 5,
   "id": "466413bf",
   "metadata": {},
   "outputs": [
    {
     "name": "stdout",
     "output_type": "stream",
     "text": [
      "SKIP: Summary exists for mmask at __logs/Ceres_20211107/Ceres_20211107_summ_MMASK.csv\n"
     ]
    }
   ],
   "source": [
    "_ = npr.comb_mmask()"
   ]
  },
  {
   "cell_type": "code",
   "execution_count": 6,
   "id": "cf20ba7f",
   "metadata": {},
   "outputs": [
    {
     "name": "stdout",
     "output_type": "stream",
     "text": [
      "SKIP: Summary exists for lv1 at __logs/Ceres_20211107/Ceres_20211107_summ_lv1.csv\n",
      "SKIP: Planer exists for lv2 at __logs/Ceres_20211107/Ceres_20211107_plan-lv2.csv\n"
     ]
    }
   ],
   "source": [
    "_ = npr.proc_lv1() \n",
    "_ = npr.plan_lv2()"
   ]
  },
  {
   "cell_type": "code",
   "execution_count": 7,
   "id": "604cde3b",
   "metadata": {},
   "outputs": [
    {
     "name": "stdout",
     "output_type": "stream",
     "text": [
      "SKIP: Summary exists for lv2 at __logs/Ceres_20211107/Ceres_20211107_summ_lv2.csv\n",
      "SKIP: Planer exists for lv3 at __logs/Ceres_20211107/Ceres_20211107_plan-lv3.csv\n"
     ]
    }
   ],
   "source": [
    "_ = npr.proc_lv2() # ~ 13 min/350FITS on MBP 16\" [2021, macOS 12.0.1, M1Pro, 8P+2E core, GPU 16-core, RAM 16GB]\n",
    "_ = npr.plan_lv3()"
   ]
  },
  {
   "cell_type": "code",
   "execution_count": 8,
   "id": "8c16b56a",
   "metadata": {},
   "outputs": [
    {
     "name": "stderr",
     "output_type": "stream",
     "text": [
      "384it [02:12,  2.90it/s]\n"
     ]
    },
    {
     "name": "stdout",
     "output_type": "stream",
     "text": [
      "Saving thumbnails to _lv3/Ceres_20211107/thumbs\n"
     ]
    },
    {
     "name": "stderr",
     "output_type": "stream",
     "text": [
      "768it [01:10, 10.97it/s]"
     ]
    },
    {
     "name": "stdout",
     "output_type": "stream",
     "text": [
      "Saved to __logs/Ceres_20211107/Ceres_20211107_plan-IFRIN.csv\n",
      "WAIT! Modify\n",
      "\t__logs/Ceres_20211107/Ceres_20211107_plan-IFRIN.csv\n"
     ]
    },
    {
     "name": "stderr",
     "output_type": "stream",
     "text": [
      "\n"
     ]
    }
   ],
   "source": [
    "_ = npr.proc_lv3()  # ~ 3 min/350FITS on MBP 16\" [2021, macOS 12.0.1, M1Pro, 8P+2E core, GPU 16-core, RAM 16GB]\n",
    "_ = npr.plan_ifrin()"
   ]
  },
  {
   "cell_type": "code",
   "execution_count": 9,
   "id": "e9149e86",
   "metadata": {},
   "outputs": [
    {
     "name": "stderr",
     "output_type": "stream",
     "text": [
      "100%|██████████████████████████████████████████████████████████████████████████████████████████████████████████████████████████████████████████████████████████████████████████████████████████████████████████████████████| 6/6 [00:01<00:00,  4.55it/s]\n"
     ]
    },
    {
     "name": "stdout",
     "output_type": "stream",
     "text": [
      "Saved to __logs/Ceres_20211107/Ceres_20211107_plan-MFRIN.csv\n",
      "Saving thumbnails to __logs/Ceres_20211107/thumbs_mfrin_plan\n"
     ]
    },
    {
     "name": "stderr",
     "output_type": "stream",
     "text": [
      "24it [00:02, 10.70it/s]"
     ]
    },
    {
     "name": "stdout",
     "output_type": "stream",
     "text": [
      "WAIT! Modify\n",
      "\t__logs/Ceres_20211107/Ceres_20211107_plan-MFRIN.csv\n"
     ]
    },
    {
     "name": "stderr",
     "output_type": "stream",
     "text": [
      "\n"
     ]
    }
   ],
   "source": [
    "_ = npr.plan_mfrin()"
   ]
  },
  {
   "cell_type": "code",
   "execution_count": 10,
   "id": "4a57c4f0",
   "metadata": {},
   "outputs": [
    {
     "name": "stdout",
     "output_type": "stream",
     "text": [
      "Group and combine by FRINCID (total 6 groups)\n",
      "* H_Ceres_sky_001_e... (4 files)\n",
      "* H_Ceres_sky_001_o... (4 files)\n",
      "* J_Ceres_sky_001_e... (4 files)\n",
      "* J_Ceres_sky_001_o... (4 files)\n",
      "* K_Ceres_sky_001_e... (4 files)\n",
      "* K_Ceres_sky_001_o... (4 files)\n",
      "..................................(dt = 0.201 s) 2022-07-15T14:42:01.959\n",
      "Saving thumbnails to __logs/Ceres_20211107/thumbs_mfrin\n"
     ]
    },
    {
     "name": "stderr",
     "output_type": "stream",
     "text": [
      "6it [00:00, 11.47it/s]\n"
     ]
    }
   ],
   "source": [
    "_ = npr.comb_mfrin()"
   ]
  },
  {
   "cell_type": "code",
   "execution_count": 11,
   "id": "0a405ddd",
   "metadata": {},
   "outputs": [
    {
     "name": "stdout",
     "output_type": "stream",
     "text": [
      "Saved to __logs/Ceres_20211107/Ceres_20211107_plan-lv4.csv\n",
      "WAIT! Modify\n",
      "\t__logs/Ceres_20211107/Ceres_20211107_plan-lv4.csv\n"
     ]
    }
   ],
   "source": [
    "_ = npr.plan_lv4(add_mfrin=False)"
   ]
  },
  {
   "cell_type": "code",
   "execution_count": 12,
   "id": "bfb1030b",
   "metadata": {},
   "outputs": [
    {
     "name": "stderr",
     "output_type": "stream",
     "text": [
      "744it [00:54, 13.76it/s]\n"
     ]
    },
    {
     "name": "stdout",
     "output_type": "stream",
     "text": [
      "Saving thumbnails to _lv4/Ceres_20211107/thumbs\n"
     ]
    },
    {
     "name": "stderr",
     "output_type": "stream",
     "text": [
      "744it [01:11, 10.40it/s]\n"
     ]
    }
   ],
   "source": [
    "_ = npr.proc_lv4()"
   ]
  },
  {
   "cell_type": "code",
   "execution_count": null,
   "id": "41bdd2b2",
   "metadata": {},
   "outputs": [],
   "source": []
  }
 ],
 "metadata": {
  "kernelspec": {
   "display_name": "Python 3 (ipykernel)",
   "language": "python",
   "name": "python3"
  },
  "language_info": {
   "codemirror_mode": {
    "name": "ipython",
    "version": 3
   },
   "file_extension": ".py",
   "mimetype": "text/x-python",
   "name": "python",
   "nbconvert_exporter": "python",
   "pygments_lexer": "ipython3",
   "version": "3.9.13"
  }
 },
 "nbformat": 4,
 "nbformat_minor": 5
}
