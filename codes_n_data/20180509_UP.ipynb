{
 "cells": [
  {
   "cell_type": "code",
   "execution_count": 1,
   "id": "d1d7eda8",
   "metadata": {},
   "outputs": [],
   "source": [
    "%config InlineBackend.figure_format = 'retina'\n",
    "from IPython import InteractiveShell\n",
    "InteractiveShell.ast_node_interactivity = 'last_expr' \n",
    "\n",
    "from pathlib import Path\n",
    "\n",
    "import numpy as np\n",
    "import nicpolpy as nic\n",
    "\n",
    "from matplotlib import pyplot as plt\n",
    "from matplotlib import rcParams\n",
    "\n",
    "import warnings\n",
    "from astropy.utils.exceptions import AstropyWarning\n",
    "warnings.filterwarnings('ignore', append=True, category=AstropyWarning)"
   ]
  },
  {
   "cell_type": "code",
   "execution_count": 2,
   "id": "d93962c3",
   "metadata": {},
   "outputs": [],
   "source": [
    "name = \"NHAO_NIC_StandardsUnpol_20180509_NHAO_NIC\"\n",
    "basename = \"UP_20180509\"\n",
    "\n",
    "npr = nic.NICPolReduc(\n",
    "    name=basename,\n",
    "    inputs=f\"_original_32bit/{name}/rawdata/*.fits\",\n",
    "#     mflats=\"cal-flat_20200603-lv1/*.fits\",\n",
    "    mflats=\"cal-flat_20180507-lv1/*.fits\",\n",
    "    imasks=\"masks/*.fits\",\n",
    "    verbose=1\n",
    ")"
   ]
  },
  {
   "cell_type": "code",
   "execution_count": 3,
   "id": "69c26d9e",
   "metadata": {},
   "outputs": [
    {
     "name": "stderr",
     "output_type": "stream",
     "text": [
      "120it [00:12,  9.99it/s]\n"
     ]
    },
    {
     "name": "stdout",
     "output_type": "stream",
     "text": [
      "Saved to __logs/UP_20180509/UP_20180509_plan-MDARK.csv\n",
      "Saving thumbnails to __logs/UP_20180509/thumbs_mdark_plan\n"
     ]
    },
    {
     "name": "stderr",
     "output_type": "stream",
     "text": [
      "120it [00:31,  3.79it/s]"
     ]
    },
    {
     "name": "stdout",
     "output_type": "stream",
     "text": [
      "WAIT! Modify\n",
      "\t__logs/UP_20180509/UP_20180509_plan-MDARK.csv\n"
     ]
    },
    {
     "name": "stderr",
     "output_type": "stream",
     "text": [
      "\n"
     ]
    }
   ],
   "source": [
    "_ = npr.plan_mdark()"
   ]
  },
  {
   "cell_type": "code",
   "execution_count": 4,
   "id": "5943e176",
   "metadata": {},
   "outputs": [
    {
     "name": "stdout",
     "output_type": "stream",
     "text": [
      "Group and combine by ['FILTER', 'EXPTIME'] (total 6 groups)\n",
      "* ('H', 2)... (20 files)\n",
      "* ('H', 120)... (20 files)\n",
      "* ('J', 2)... (20 files)\n",
      "* ('J', 120)... (20 files)\n",
      "* ('K', 2)... (20 files)\n",
      "* ('K', 120)... (20 files)\n",
      ".................................(dt = 19.738 s) 2022-09-25T09:33:02.828\n",
      "Saving thumbnails to __logs/UP_20180509/thumbs_mdark\n"
     ]
    },
    {
     "name": "stderr",
     "output_type": "stream",
     "text": [
      "6it [00:01,  4.84it/s]\n"
     ]
    },
    {
     "name": "stdout",
     "output_type": "stream",
     "text": [
      "Saving thumbnails to __logs/UP_20180509/thumbs_dmask\n"
     ]
    },
    {
     "name": "stderr",
     "output_type": "stream",
     "text": [
      "6it [00:01,  4.55it/s]\n"
     ]
    },
    {
     "name": "stdout",
     "output_type": "stream",
     "text": [
      "Saved to __logs/UP_20180509/UP_20180509_plan-MMASK.csv\n",
      "Saving thumbnails to __logs/UP_20180509/thumbs_mmask_plan\n"
     ]
    },
    {
     "name": "stderr",
     "output_type": "stream",
     "text": [
      "9it [00:01,  5.35it/s]"
     ]
    },
    {
     "name": "stdout",
     "output_type": "stream",
     "text": [
      "WAIT! Modify\n",
      "\t__logs/UP_20180509/UP_20180509_plan-MMASK.csv\n"
     ]
    },
    {
     "name": "stderr",
     "output_type": "stream",
     "text": [
      "\n"
     ]
    }
   ],
   "source": [
    "_ = npr.comb_mdark_dmask()\n",
    "_ = npr.plan_mmask()"
   ]
  },
  {
   "cell_type": "code",
   "execution_count": 5,
   "id": "466413bf",
   "metadata": {},
   "outputs": [
    {
     "name": "stdout",
     "output_type": "stream",
     "text": [
      "Group and combine by ['FILTER'] (total 3 groups)\n",
      "* H... (3 files)\n",
      "* J... (3 files)\n",
      "* K... (3 files)\n",
      "..................................(dt = 0.192 s) 2022-09-25T09:33:07.822\n",
      "Saving thumbnails to __logs/UP_20180509/thumbs_mmask\n"
     ]
    },
    {
     "name": "stderr",
     "output_type": "stream",
     "text": [
      "3it [00:00,  6.61it/s]\n"
     ]
    }
   ],
   "source": [
    "_ = npr.comb_mmask()"
   ]
  },
  {
   "cell_type": "code",
   "execution_count": 6,
   "id": "cf20ba7f",
   "metadata": {},
   "outputs": [
    {
     "name": "stderr",
     "output_type": "stream",
     "text": [
      "2040it [02:36, 13.06it/s]\n",
      "100%|██████████████████████████████████████████████████████████████████████| 680/680 [01:12<00:00,  9.41it/s]\n"
     ]
    },
    {
     "name": "stdout",
     "output_type": "stream",
     "text": [
      "Saved to __logs/UP_20180509/UP_20180509_plan-lv2.csv\n",
      "WAIT! Modify\n",
      "\t__logs/UP_20180509/UP_20180509_plan-lv2.csv\n"
     ]
    }
   ],
   "source": [
    "_ = npr.proc_lv1() \n",
    "_ = npr.plan_lv2()"
   ]
  },
  {
   "cell_type": "code",
   "execution_count": 7,
   "id": "604cde3b",
   "metadata": {},
   "outputs": [
    {
     "name": "stderr",
     "output_type": "stream",
     "text": [
      "1815it [22:43,  1.33it/s]\n",
      "100%|██████████████████████████████████████████████████████████████████████| 680/680 [01:05<00:00, 10.31it/s]\n"
     ]
    },
    {
     "name": "stdout",
     "output_type": "stream",
     "text": [
      "Saved to __logs/UP_20180509/UP_20180509_plan-lv3.csv\n",
      "WAIT! Modify\n",
      "\t__logs/UP_20180509/UP_20180509_plan-lv3.csv\n"
     ]
    }
   ],
   "source": [
    "_ = npr.proc_lv2() # ~ 13 min/350FITS on MBP 16\" [2021, macOS 12.0.1, M1Pro, 8P+2E core, GPU 16-core, RAM 16GB]\n",
    "_ = npr.plan_lv3()"
   ]
  },
  {
   "cell_type": "code",
   "execution_count": 8,
   "id": "8c16b56a",
   "metadata": {},
   "outputs": [
    {
     "name": "stderr",
     "output_type": "stream",
     "text": [
      "1815it [11:02,  2.74it/s]\n"
     ]
    },
    {
     "name": "stdout",
     "output_type": "stream",
     "text": [
      "Saving thumbnails to _lv3/UP_20180509/thumbs\n"
     ]
    },
    {
     "name": "stderr",
     "output_type": "stream",
     "text": [
      "3630it [05:51, 10.32it/s]"
     ]
    },
    {
     "name": "stdout",
     "output_type": "stream",
     "text": [
      "No data found for ifrin.\n"
     ]
    },
    {
     "name": "stderr",
     "output_type": "stream",
     "text": [
      "\n"
     ]
    }
   ],
   "source": [
    "_ = npr.proc_lv3()  # ~ 3 min/350FITS on MBP 16\" [2021, macOS 12.0.1, M1Pro, 8P+2E core, GPU 16-core, RAM 16GB]\n",
    "_ = npr.plan_ifrin()"
   ]
  },
  {
   "cell_type": "code",
   "execution_count": 9,
   "id": "e9149e86",
   "metadata": {},
   "outputs": [
    {
     "name": "stdout",
     "output_type": "stream",
     "text": [
      "SKIP: Planner does not exist for ifrin\n"
     ]
    }
   ],
   "source": [
    "_ = npr.plan_mfrin()"
   ]
  },
  {
   "cell_type": "code",
   "execution_count": 10,
   "id": "4a57c4f0",
   "metadata": {},
   "outputs": [
    {
     "name": "stdout",
     "output_type": "stream",
     "text": [
      "SKIP: Planner does not exist for mfrin\n"
     ]
    }
   ],
   "source": [
    "_ = npr.comb_mfrin()"
   ]
  },
  {
   "cell_type": "code",
   "execution_count": 11,
   "id": "0a405ddd",
   "metadata": {},
   "outputs": [
    {
     "name": "stdout",
     "output_type": "stream",
     "text": [
      "Saved to __logs/UP_20180509/UP_20180509_plan-lv4.csv\n",
      "WAIT! Modify\n",
      "\t__logs/UP_20180509/UP_20180509_plan-lv4.csv\n"
     ]
    }
   ],
   "source": [
    "_ = npr.plan_lv4(add_mfrin=False)"
   ]
  },
  {
   "cell_type": "code",
   "execution_count": 12,
   "id": "4d327005",
   "metadata": {},
   "outputs": [
    {
     "name": "stderr",
     "output_type": "stream",
     "text": [
      "3630it [03:51, 15.65it/s]\n"
     ]
    },
    {
     "name": "stdout",
     "output_type": "stream",
     "text": [
      "Saving thumbnails to _lv4/UP_20180509/thumbs\n"
     ]
    },
    {
     "name": "stderr",
     "output_type": "stream",
     "text": [
      "3630it [05:51, 10.34it/s]\n"
     ]
    }
   ],
   "source": [
    "_ = npr.proc_lv4()"
   ]
  },
  {
   "cell_type": "code",
   "execution_count": null,
   "id": "d4d56e6a",
   "metadata": {},
   "outputs": [],
   "source": []
  }
 ],
 "metadata": {
  "kernelspec": {
   "display_name": "Python 3 (ipykernel)",
   "language": "python",
   "name": "python3"
  },
  "language_info": {
   "codemirror_mode": {
    "name": "ipython",
    "version": 3
   },
   "file_extension": ".py",
   "mimetype": "text/x-python",
   "name": "python",
   "nbconvert_exporter": "python",
   "pygments_lexer": "ipython3",
   "version": "3.10.6"
  }
 },
 "nbformat": 4,
 "nbformat_minor": 5
}
