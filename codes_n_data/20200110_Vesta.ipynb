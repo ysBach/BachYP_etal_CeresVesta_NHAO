{
 "cells": [
  {
   "cell_type": "code",
   "execution_count": 1,
   "id": "d1d7eda8",
   "metadata": {},
   "outputs": [],
   "source": [
    "%config InlineBackend.figure_format = 'retina'\n",
    "from IPython import InteractiveShell\n",
    "InteractiveShell.ast_node_interactivity = 'last_expr' \n",
    "\n",
    "from pathlib import Path\n",
    "\n",
    "import numpy as np\n",
    "import nicpolpy as nic\n",
    "\n",
    "from matplotlib import pyplot as plt\n",
    "from matplotlib import rcParams\n",
    "\n",
    "import warnings\n",
    "from astropy.utils.exceptions import AstropyWarning\n",
    "warnings.filterwarnings('ignore', append=True, category=AstropyWarning)"
   ]
  },
  {
   "cell_type": "code",
   "execution_count": 2,
   "id": "d93962c3",
   "metadata": {},
   "outputs": [],
   "source": [
    "name = \"4_Vesta_20200110_NHAO_NIC\"\n",
    "basename = \"Vesta_20200110\"\n",
    "\n",
    "npr = nic.NICPolReduc(\n",
    "    name=basename,\n",
    "    inputs=f\"_original_32bit/{name}/raw/*.fits\",\n",
    "#     mflats=\"cal-flat_20200603-lv1/*.fits\",\n",
    "    mflats=\"cal-flat_20180507-lv1/*.fits\",\n",
    "    imasks=\"masks/*.fits\",\n",
    "    verbose=1\n",
    ")"
   ]
  },
  {
   "cell_type": "code",
   "execution_count": 3,
   "id": "69c26d9e",
   "metadata": {},
   "outputs": [
    {
     "name": "stdout",
     "output_type": "stream",
     "text": [
      "No dark frame found.\n"
     ]
    }
   ],
   "source": [
    "_ = npr.plan_mdark()"
   ]
  },
  {
   "cell_type": "code",
   "execution_count": 4,
   "id": "5943e176",
   "metadata": {},
   "outputs": [
    {
     "name": "stdout",
     "output_type": "stream",
     "text": [
      "No DARK frames found. Skipping...\n",
      "No dark found. Skipping DMASK (using IMASK as MMASK)\n"
     ]
    }
   ],
   "source": [
    "_ = npr.comb_mdark_dmask()\n",
    "_ = npr.plan_mmask()"
   ]
  },
  {
   "cell_type": "code",
   "execution_count": 5,
   "id": "466413bf",
   "metadata": {},
   "outputs": [
    {
     "name": "stdout",
     "output_type": "stream",
     "text": [
      "SKIP: Summary exists for mmask at __logs/Vesta_20200110/Vesta_20200110_summ_IMASK.csv\n"
     ]
    }
   ],
   "source": [
    "_ = npr.comb_mmask()"
   ]
  },
  {
   "cell_type": "code",
   "execution_count": 6,
   "id": "cf20ba7f",
   "metadata": {},
   "outputs": [
    {
     "name": "stderr",
     "output_type": "stream",
     "text": [
      "372it [00:31, 11.63it/s]\n",
      "100%|██████████████████████████████████████████████████████████████████████████████████████████████████████████████████████████████████████████████████████████████████████████████████████████████████████████████████| 124/124 [00:17<00:00,  6.90it/s]\n"
     ]
    },
    {
     "name": "stdout",
     "output_type": "stream",
     "text": [
      "Saved to __logs/Vesta_20200110/Vesta_20200110_plan-lv2.csv\n",
      "WAIT! Modify\n",
      "\t__logs/Vesta_20200110/Vesta_20200110_plan-lv2.csv\n"
     ]
    }
   ],
   "source": [
    "_ = npr.proc_lv1() \n",
    "_ = npr.plan_lv2()"
   ]
  },
  {
   "cell_type": "code",
   "execution_count": 7,
   "id": "604cde3b",
   "metadata": {},
   "outputs": [
    {
     "name": "stderr",
     "output_type": "stream",
     "text": [
      "372it [04:03,  1.53it/s]\n",
      "100%|██████████████████████████████████████████████████████████████████████████████████████████████████████████████████████████████████████████████████████████████████████████████████████████████████████████████████| 124/124 [00:15<00:00,  8.08it/s]\n"
     ]
    },
    {
     "name": "stdout",
     "output_type": "stream",
     "text": [
      "Saved to __logs/Vesta_20200110/Vesta_20200110_plan-lv3.csv\n",
      "WAIT! Modify\n",
      "\t__logs/Vesta_20200110/Vesta_20200110_plan-lv3.csv\n"
     ]
    }
   ],
   "source": [
    "_ = npr.proc_lv2() # ~ 13 min/350FITS on MBP 16\" [2021, macOS 12.0.1, M1Pro, 8P+2E core, GPU 16-core, RAM 16GB]\n",
    "_ = npr.plan_lv3()"
   ]
  },
  {
   "cell_type": "code",
   "execution_count": 8,
   "id": "8c16b56a",
   "metadata": {},
   "outputs": [
    {
     "name": "stderr",
     "output_type": "stream",
     "text": [
      "372it [02:20,  2.65it/s]\n"
     ]
    },
    {
     "name": "stdout",
     "output_type": "stream",
     "text": [
      "Saving thumbnails to _lv3/Vesta_20200110/thumbs\n"
     ]
    },
    {
     "name": "stderr",
     "output_type": "stream",
     "text": [
      "744it [01:24,  8.85it/s]\n"
     ]
    }
   ],
   "source": [
    "_ = npr.proc_lv3()  # ~ 3 min/350FITS on MBP 16\" [2021, macOS 12.0.1, M1Pro, 8P+2E core, GPU 16-core, RAM 16GB]"
   ]
  },
  {
   "cell_type": "code",
   "execution_count": 9,
   "id": "254e1cf5",
   "metadata": {},
   "outputs": [
    {
     "name": "stdout",
     "output_type": "stream",
     "text": [
      "No data found for ifrin.\n"
     ]
    }
   ],
   "source": [
    "_ = npr.plan_ifrin()"
   ]
  },
  {
   "cell_type": "code",
   "execution_count": 10,
   "id": "e9149e86",
   "metadata": {},
   "outputs": [
    {
     "name": "stdout",
     "output_type": "stream",
     "text": [
      "SKIP: Planner does not exist for ifrin\n"
     ]
    }
   ],
   "source": [
    "_ = npr.plan_mfrin()"
   ]
  },
  {
   "cell_type": "code",
   "execution_count": 11,
   "id": "4a57c4f0",
   "metadata": {},
   "outputs": [
    {
     "name": "stdout",
     "output_type": "stream",
     "text": [
      "SKIP: Planner does not exist for mfrin\n"
     ]
    }
   ],
   "source": [
    "_ = npr.comb_mfrin()"
   ]
  },
  {
   "cell_type": "code",
   "execution_count": 12,
   "id": "0a405ddd",
   "metadata": {},
   "outputs": [
    {
     "name": "stdout",
     "output_type": "stream",
     "text": [
      "Saved to __logs/Vesta_20200110/Vesta_20200110_plan-lv4.csv\n",
      "WAIT! Modify\n",
      "\t__logs/Vesta_20200110/Vesta_20200110_plan-lv4.csv\n"
     ]
    }
   ],
   "source": [
    "_ = npr.plan_lv4(add_mfrin=False)"
   ]
  },
  {
   "cell_type": "code",
   "execution_count": 13,
   "id": "4d327005",
   "metadata": {},
   "outputs": [
    {
     "name": "stderr",
     "output_type": "stream",
     "text": [
      "744it [02:05,  5.94it/s]\n"
     ]
    },
    {
     "name": "stdout",
     "output_type": "stream",
     "text": [
      "Saving thumbnails to _lv4/Vesta_20200110/thumbs\n"
     ]
    },
    {
     "name": "stderr",
     "output_type": "stream",
     "text": [
      "744it [01:28,  8.45it/s]\n"
     ]
    }
   ],
   "source": [
    "_ = npr.proc_lv4()"
   ]
  },
  {
   "cell_type": "code",
   "execution_count": null,
   "id": "d4d56e6a",
   "metadata": {},
   "outputs": [],
   "source": []
  }
 ],
 "metadata": {
  "kernelspec": {
   "display_name": "Python 3 (ipykernel)",
   "language": "python",
   "name": "python3"
  },
  "language_info": {
   "codemirror_mode": {
    "name": "ipython",
    "version": 3
   },
   "file_extension": ".py",
   "mimetype": "text/x-python",
   "name": "python",
   "nbconvert_exporter": "python",
   "pygments_lexer": "ipython3",
   "version": "3.9.13"
  }
 },
 "nbformat": 4,
 "nbformat_minor": 5
}
