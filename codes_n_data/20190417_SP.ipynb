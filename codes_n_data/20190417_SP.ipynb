{
 "cells": [
  {
   "cell_type": "code",
   "execution_count": 2,
   "id": "d1d7eda8",
   "metadata": {},
   "outputs": [],
   "source": [
    "from IPython import InteractiveShell\n",
    "InteractiveShell.ast_node_interactivity = 'last_expr' \n",
    "\n",
    "import nicpolpy as nic\n",
    "\n",
    "import warnings\n",
    "from astropy.utils.exceptions import AstropyWarning\n",
    "warnings.filterwarnings('ignore', append=True, category=AstropyWarning)"
   ]
  },
  {
   "cell_type": "code",
   "execution_count": 3,
   "id": "d93962c3",
   "metadata": {},
   "outputs": [
    {
     "name": "stderr",
     "output_type": "stream",
     "text": [
      "/Users/ysbach/Dropbox/github/NICpolpy/nicpolpy/util.py:739: FutureWarning: In a future version, `df.iloc[:, i] = newvals` will attempt to set the values inplace instead of always setting a new array. To retain the old behavior, use either `df[df.columns[i]] = newvals` or, if columns are non-unique, `df.isetitem(i, newvals)`\n",
      "  df.update(df_foa)\n"
     ]
    }
   ],
   "source": [
    "name = \"NHAO_NIC_StandardsPol_20190417_NHAO_NIC\"\n",
    "basename = \"SP_20190417\"\n",
    "\n",
    "npr = nic.NICPolReduc(\n",
    "    name=basename,\n",
    "    inputs=f\"_original_32bit/{name}/raw/*.fits\",\n",
    "#     mflats=\"cal-flat_20200603-lv1/*.fits\",\n",
    "    mflats=\"cal-flat_20180507-lv1/*.fits\",\n",
    "    imasks=\"masks/*.fits\",\n",
    "    verbose=1\n",
    ")\n",
    "                                            "
   ]
  },
  {
   "cell_type": "code",
   "execution_count": 4,
   "id": "69c26d9e",
   "metadata": {},
   "outputs": [
    {
     "name": "stderr",
     "output_type": "stream",
     "text": [
      "/Users/ysbach/Dropbox/github/NICpolpy/nicpolpy/util.py:739: FutureWarning: In a future version, `df.iloc[:, i] = newvals` will attempt to set the values inplace instead of always setting a new array. To retain the old behavior, use either `df[df.columns[i]] = newvals` or, if columns are non-unique, `df.isetitem(i, newvals)`\n",
      "  df.update(df_foa)\n",
      "60it [00:05, 10.69it/s]\n"
     ]
    },
    {
     "name": "stdout",
     "output_type": "stream",
     "text": [
      "Saved to __logs/SP_20190417/SP_20190417_plan-MDARK.csv\n",
      "Saving thumbnails to __logs/SP_20190417/thumbs_mdark_plan\n"
     ]
    },
    {
     "name": "stderr",
     "output_type": "stream",
     "text": [
      "60it [00:15,  3.98it/s]"
     ]
    },
    {
     "name": "stdout",
     "output_type": "stream",
     "text": [
      "WAIT! Modify\n",
      "\t__logs/SP_20190417/SP_20190417_plan-MDARK.csv\n"
     ]
    },
    {
     "name": "stderr",
     "output_type": "stream",
     "text": [
      "\n"
     ]
    }
   ],
   "source": [
    "_ = npr.plan_mdark()"
   ]
  },
  {
   "cell_type": "code",
   "execution_count": 5,
   "id": "5943e176",
   "metadata": {},
   "outputs": [
    {
     "name": "stdout",
     "output_type": "stream",
     "text": [
      "Group and combine by ['FILTER', 'EXPTIME'] (total 3 groups)\n",
      "* ('H', 8)... (20 files)\n",
      "* ('J', 8)... (20 files)\n",
      "* ('K', 8)... (20 files)\n",
      ".................................(dt = 10.394 s) 2022-10-13T05:47:35.706\n",
      "Saving thumbnails to __logs/SP_20190417/thumbs_mdark\n"
     ]
    },
    {
     "name": "stderr",
     "output_type": "stream",
     "text": [
      "3it [00:00,  4.50it/s]\n"
     ]
    },
    {
     "name": "stdout",
     "output_type": "stream",
     "text": [
      "Saving thumbnails to __logs/SP_20190417/thumbs_dmask\n"
     ]
    },
    {
     "name": "stderr",
     "output_type": "stream",
     "text": [
      "3it [00:00,  7.26it/s]\n"
     ]
    },
    {
     "name": "stdout",
     "output_type": "stream",
     "text": [
      "Saved to __logs/SP_20190417/SP_20190417_plan-MMASK.csv\n",
      "Saving thumbnails to __logs/SP_20190417/thumbs_mmask_plan\n"
     ]
    },
    {
     "name": "stderr",
     "output_type": "stream",
     "text": [
      "6it [00:01,  6.00it/s]"
     ]
    },
    {
     "name": "stdout",
     "output_type": "stream",
     "text": [
      "WAIT! Modify\n",
      "\t__logs/SP_20190417/SP_20190417_plan-MMASK.csv\n"
     ]
    },
    {
     "name": "stderr",
     "output_type": "stream",
     "text": [
      "\n"
     ]
    }
   ],
   "source": [
    "_ = npr.comb_mdark_dmask()\n",
    "_ = npr.plan_mmask()"
   ]
  },
  {
   "cell_type": "code",
   "execution_count": 6,
   "id": "466413bf",
   "metadata": {},
   "outputs": [
    {
     "name": "stderr",
     "output_type": "stream",
     "text": [
      "/Users/ysbach/Dropbox/github/NICpolpy/nicpolpy/ysfitsutilpy4nicpolpy/imutil/imcombine.py:159: FutureWarning: In a future version of pandas, a length 1 tuple will be returned when iterating over a groupby with a grouper equal to a list of length 1. Don't supply a list with a single grouper to avoid this warning.\n",
      "  for g_val, group in gs:\n"
     ]
    },
    {
     "name": "stdout",
     "output_type": "stream",
     "text": [
      "Group and combine by ['FILTER'] (total 3 groups)\n",
      "* H... (2 files)\n",
      "* J... (2 files)\n",
      "* K... (2 files)\n",
      "..................................(dt = 0.088 s) 2022-10-13T05:47:38.138\n",
      "Saving thumbnails to __logs/SP_20190417/thumbs_mmask\n"
     ]
    },
    {
     "name": "stderr",
     "output_type": "stream",
     "text": [
      "3it [00:00,  6.88it/s]\n"
     ]
    }
   ],
   "source": [
    "_ = npr.comb_mmask()"
   ]
  },
  {
   "cell_type": "code",
   "execution_count": 7,
   "id": "cf20ba7f",
   "metadata": {},
   "outputs": [
    {
     "name": "stderr",
     "output_type": "stream",
     "text": [
      "/Users/ysbach/Dropbox/github/NICpolpy/nicpolpy/util.py:739: FutureWarning: In a future version, `df.iloc[:, i] = newvals` will attempt to set the values inplace instead of always setting a new array. To retain the old behavior, use either `df[df.columns[i]] = newvals` or, if columns are non-unique, `df.isetitem(i, newvals)`\n",
      "  df.update(df_foa)\n",
      "/Users/ysbach/Dropbox/github/NICpolpy/nicpolpy/util.py:739: FutureWarning: In a future version, `df.iloc[:, i] = newvals` will attempt to set the values inplace instead of always setting a new array. To retain the old behavior, use either `df[df.columns[i]] = newvals` or, if columns are non-unique, `df.isetitem(i, newvals)`\n",
      "  df.update(df_foa)\n",
      "456it [00:40, 11.14it/s]\n",
      "/Users/ysbach/Dropbox/github/NICpolpy/nicpolpy/util.py:739: FutureWarning: In a future version, `df.iloc[:, i] = newvals` will attempt to set the values inplace instead of always setting a new array. To retain the old behavior, use either `df[df.columns[i]] = newvals` or, if columns are non-unique, `df.isetitem(i, newvals)`\n",
      "  df.update(df_foa)\n",
      "100%|███████████████████████████████████████████████████████████████████████████████████████| 152/152 [00:20<00:00,  7.37it/s]\n"
     ]
    },
    {
     "name": "stdout",
     "output_type": "stream",
     "text": [
      "Saved to __logs/SP_20190417/SP_20190417_plan-lv2.csv\n",
      "WAIT! Modify\n",
      "\t__logs/SP_20190417/SP_20190417_plan-lv2.csv\n"
     ]
    }
   ],
   "source": [
    "_ = npr.proc_lv1() \n",
    "_ = npr.plan_lv2()"
   ]
  },
  {
   "cell_type": "code",
   "execution_count": 8,
   "id": "604cde3b",
   "metadata": {},
   "outputs": [
    {
     "name": "stderr",
     "output_type": "stream",
     "text": [
      "/Users/ysbach/Dropbox/github/NICpolpy/nicpolpy/util.py:739: FutureWarning: In a future version, `df.iloc[:, i] = newvals` will attempt to set the values inplace instead of always setting a new array. To retain the old behavior, use either `df[df.columns[i]] = newvals` or, if columns are non-unique, `df.isetitem(i, newvals)`\n",
      "  df.update(df_foa)\n",
      "357it [03:45,  1.58it/s]\n",
      "/Users/ysbach/Dropbox/github/NICpolpy/nicpolpy/util.py:739: FutureWarning: In a future version, `df.iloc[:, i] = newvals` will attempt to set the values inplace instead of always setting a new array. To retain the old behavior, use either `df[df.columns[i]] = newvals` or, if columns are non-unique, `df.isetitem(i, newvals)`\n",
      "  df.update(df_foa)\n",
      "100%|███████████████████████████████████████████████████████████████████████████████████████| 152/152 [00:18<00:00,  8.04it/s]\n"
     ]
    },
    {
     "name": "stdout",
     "output_type": "stream",
     "text": [
      "Saved to __logs/SP_20190417/SP_20190417_plan-lv3.csv\n",
      "WAIT! Modify\n",
      "\t__logs/SP_20190417/SP_20190417_plan-lv3.csv\n"
     ]
    }
   ],
   "source": [
    "_ = npr.proc_lv2(do_fourier=True, vertical_again=True) # ~ 4 min/350FITS on MBP 16\" [2021, macOS 12.0.1, M1Pro, 8P+2E core, GPU 16-core, RAM 16GB]\n",
    "_ = npr.plan_lv3()"
   ]
  },
  {
   "cell_type": "code",
   "execution_count": 9,
   "id": "8c16b56a",
   "metadata": {},
   "outputs": [
    {
     "name": "stderr",
     "output_type": "stream",
     "text": [
      "357it [02:11,  2.72it/s]\n"
     ]
    },
    {
     "name": "stdout",
     "output_type": "stream",
     "text": [
      "Saving thumbnails to _lv3/SP_20190417/thumbs\n"
     ]
    },
    {
     "name": "stderr",
     "output_type": "stream",
     "text": [
      "714it [01:30,  7.89it/s]"
     ]
    },
    {
     "name": "stdout",
     "output_type": "stream",
     "text": [
      "Saved to __logs/SP_20190417/SP_20190417_plan-IFRIN.csv\n",
      "WAIT! Modify\n",
      "\t__logs/SP_20190417/SP_20190417_plan-IFRIN.csv\n"
     ]
    },
    {
     "name": "stderr",
     "output_type": "stream",
     "text": [
      "\n"
     ]
    }
   ],
   "source": [
    "_ = npr.proc_lv3()  # ~ 3 min/350FITS on MBP 16\" [2021, macOS 12.0.1, M1Pro, 8P+2E core, GPU 16-core, RAM 16GB]\n",
    "_ = npr.plan_ifrin()"
   ]
  },
  {
   "cell_type": "code",
   "execution_count": 10,
   "id": "e9149e86",
   "metadata": {},
   "outputs": [
    {
     "name": "stderr",
     "output_type": "stream",
     "text": [
      "100%|█████████████████████████████████████████████████████████████████████████████████████████| 36/36 [00:12<00:00,  2.85it/s]\n"
     ]
    },
    {
     "name": "stdout",
     "output_type": "stream",
     "text": [
      "Saved to __logs/SP_20190417/SP_20190417_plan-MFRIN.csv\n",
      "Saving thumbnails to __logs/SP_20190417/thumbs_mfrin_plan\n"
     ]
    },
    {
     "name": "stderr",
     "output_type": "stream",
     "text": [
      "144it [00:18,  7.59it/s]"
     ]
    },
    {
     "name": "stdout",
     "output_type": "stream",
     "text": [
      "WAIT! Modify\n",
      "\t__logs/SP_20190417/SP_20190417_plan-MFRIN.csv\n"
     ]
    },
    {
     "name": "stderr",
     "output_type": "stream",
     "text": [
      "\n"
     ]
    }
   ],
   "source": [
    "_ = npr.plan_mfrin()"
   ]
  },
  {
   "cell_type": "code",
   "execution_count": 11,
   "id": "4a57c4f0",
   "metadata": {},
   "outputs": [
    {
     "name": "stdout",
     "output_type": "stream",
     "text": [
      "Group and combine by FRINCID (total 36 groups)\n",
      "* H_Elias19_sky_001_e... (4 files)\n",
      "* H_Elias19_sky_001_o... (4 files)\n",
      "* H_Elias19_sky_002_e... (4 files)\n",
      "* H_Elias19_sky_002_o... (4 files)\n",
      "* H_Elias19_sky_003_e... (4 files)\n",
      "* H_Elias19_sky_003_o... (4 files)\n"
     ]
    },
    {
     "name": "stderr",
     "output_type": "stream",
     "text": [
      "/Users/ysbach/Dropbox/github/NICpolpy/nicpolpy/ysfitsutilpy4nicpolpy/imutil/imcombine.py:159: FutureWarning: In a future version of pandas, a length 1 tuple will be returned when iterating over a groupby with a grouper equal to a list of length 1. Don't supply a list with a single grouper to avoid this warning.\n",
      "  for g_val, group in gs:\n"
     ]
    },
    {
     "name": "stdout",
     "output_type": "stream",
     "text": [
      "* H_Elias19_sky_004_e... (4 files)\n",
      "* H_Elias19_sky_004_o... (4 files)\n",
      "* H_Elias29_sky_001_e... (4 files)\n",
      "* H_Elias29_sky_001_o... (4 files)\n",
      "* H_HDE283809_sky_001_e... (4 files)\n",
      "* H_HDE283809_sky_001_o... (4 files)\n",
      "* J_Elias19_sky_001_e... (4 files)\n",
      "* J_Elias19_sky_001_o... (4 files)\n",
      "* J_Elias19_sky_002_e... (4 files)\n",
      "* J_Elias19_sky_002_o... (4 files)\n",
      "* J_Elias19_sky_003_e... (4 files)\n",
      "* J_Elias19_sky_003_o... (4 files)\n",
      "* J_Elias19_sky_004_e... (4 files)\n",
      "* J_Elias19_sky_004_o... (4 files)\n",
      "* J_Elias29_sky_001_e... (4 files)\n",
      "* J_Elias29_sky_001_o... (4 files)\n",
      "* J_HDE283809_sky_001_e... (4 files)\n",
      "* J_HDE283809_sky_001_o... (4 files)\n",
      "* K_Elias19_sky_001_e... (4 files)\n",
      "* K_Elias19_sky_001_o... (4 files)\n",
      "* K_Elias19_sky_002_e... (4 files)\n",
      "* K_Elias19_sky_002_o... (4 files)\n",
      "* K_Elias19_sky_003_e... (4 files)\n",
      "* K_Elias19_sky_003_o... (4 files)\n",
      "* K_Elias19_sky_004_e... (4 files)\n",
      "* K_Elias19_sky_004_o... (4 files)\n",
      "* K_Elias29_sky_001_e... (4 files)\n",
      "* K_Elias29_sky_001_o... (4 files)\n",
      "* K_HDE283809_sky_001_e... (4 files)\n",
      "* K_HDE283809_sky_001_o... (4 files)\n",
      "..................................(dt = 1.311 s) 2022-10-13T05:57:04.698\n",
      "Saving thumbnails to __logs/SP_20190417/thumbs_mfrin\n"
     ]
    },
    {
     "name": "stderr",
     "output_type": "stream",
     "text": [
      "36it [00:04,  7.58it/s]\n"
     ]
    }
   ],
   "source": [
    "_ = npr.comb_mfrin()"
   ]
  },
  {
   "cell_type": "code",
   "execution_count": 12,
   "id": "0a405ddd",
   "metadata": {},
   "outputs": [
    {
     "name": "stdout",
     "output_type": "stream",
     "text": [
      "Saved to __logs/SP_20190417/SP_20190417_plan-lv4.csv\n",
      "WAIT! Modify\n",
      "\t__logs/SP_20190417/SP_20190417_plan-lv4.csv\n"
     ]
    }
   ],
   "source": [
    "_ = npr.plan_lv4(add_mfrin=False)"
   ]
  },
  {
   "cell_type": "code",
   "execution_count": 13,
   "id": "4d327005",
   "metadata": {
    "scrolled": false
   },
   "outputs": [
    {
     "name": "stderr",
     "output_type": "stream",
     "text": [
      "570it [00:52, 10.96it/s]\n"
     ]
    },
    {
     "name": "stdout",
     "output_type": "stream",
     "text": [
      "Saving thumbnails to _lv4/SP_20190417/thumbs\n"
     ]
    },
    {
     "name": "stderr",
     "output_type": "stream",
     "text": [
      "570it [01:13,  7.78it/s]\n"
     ]
    }
   ],
   "source": [
    "_ = npr.proc_lv4()"
   ]
  },
  {
   "cell_type": "code",
   "execution_count": null,
   "id": "6aac6a91",
   "metadata": {},
   "outputs": [],
   "source": []
  }
 ],
 "metadata": {
  "kernelspec": {
   "display_name": "Python 3 (ipykernel)",
   "language": "python",
   "name": "python3"
  },
  "language_info": {
   "codemirror_mode": {
    "name": "ipython",
    "version": 3
   },
   "file_extension": ".py",
   "mimetype": "text/x-python",
   "name": "python",
   "nbconvert_exporter": "python",
   "pygments_lexer": "ipython3",
   "version": "3.10.6"
  },
  "vscode": {
   "interpreter": {
    "hash": "2a0c41960e5a4910380bd4adea80a0c8c125e69f05b4c2ce5dac8612da8b9814"
   }
  }
 },
 "nbformat": 4,
 "nbformat_minor": 5
}
